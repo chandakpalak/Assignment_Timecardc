{
 "cells": [
  {
   "cell_type": "code",
   "execution_count": 7,
   "id": "961dc658",
   "metadata": {},
   "outputs": [],
   "source": [
    "\n",
    "import pandas as pd\n",
    "from datetime import datetime, timedelta"
   ]
  },
  {
   "cell_type": "code",
   "execution_count": 8,
   "id": "4c501686",
   "metadata": {},
   "outputs": [],
   "source": [
    "input_file = \"Assignment_Timecardc.csv\""
   ]
  },
  {
   "cell_type": "code",
   "execution_count": 55,
   "id": "652bb0d2",
   "metadata": {},
   "outputs": [],
   "source": [
    "import pandas as pd\n",
    "\n",
    "# Define the input file name\n",
    "input_file = \"Assignment_Timecardc.csv\"  # Replace with your CSV file path\n",
    "\n",
    "try:\n",
    "    # Read the CSV file into a DataFrame\n",
    "    df = pd.read_csv(input_file)\n",
    "\n",
    "    # Assuming the column names in your CSV file\n",
    "    date_col = \"Pay Cycle Start Date\"\n",
    "    employee_name_col = \"Employee Name\"\n",
    "\n",
    "    # Convert the date column to datetime\n",
    "    df[date_col] = pd.to_datetime(df[date_col], format=\"%m-%d-%Y\")\n",
    "\n",
    "    # Sort the DataFrame by employee name and date\n",
    "    df.sort_values(by=[employee_name_col, date_col], inplace=True)\n",
    "\n",
    "    # Group the DataFrame by employee name\n",
    "    grouped = df.groupby(employee_name_col)\n",
    "\n",
    "    for name, group in grouped:\n",
    "        consecutive_days = 0\n",
    "        prev_date = None\n",
    "\n",
    "        for index, row in group.iterrows():\n",
    "            if prev_date is None:\n",
    "                prev_date = row[date_col]\n",
    "                consecutive_days = 1\n",
    "            else:\n",
    "                if (row[date_col] - prev_date).days == 1:\n",
    "                    consecutive_days += 1\n",
    "                else:\n",
    "                    consecutive_days = 1\n",
    "\n",
    "                prev_date = row[date_col]\n",
    "\n",
    "            if consecutive_days == 7:\n",
    "                position = row.get(\"Position ID\", \"N/A\")  # Replace with the actual column name for position\n",
    "                print(f\"Employee: {name}, Position: {position} has worked for 7 consecutive days.\")\n",
    "                break\n",
    "\n",
    "except FileNotFoundError:\n",
    "    print(f\"File '{input_file}' not found.\")\n",
    "except Exception as e:\n",
    "    print(f\"An error occurred: {str(e)}\")\n"
   ]
  },
  {
   "cell_type": "code",
   "execution_count": 54,
   "id": "3f6a663d",
   "metadata": {},
   "outputs": [
    {
     "name": "stdout",
     "output_type": "stream",
     "text": [
      "Employee: CEreira Jr, JEse, Position: WFS000456 has less than 10 hours between shifts but more than 1 hour.\n",
      "Employee: CaMaXaWE, CeghaW, Position: WFS000153 has less than 10 hours between shifts but more than 1 hour.\n",
      "Employee: CaMaXaWE, CeghaW, Position: WFS000153 has less than 10 hours between shifts but more than 1 hour.\n",
      "Employee: De Xa Cerda, IgWaciE, Position: WFS000318 has less than 10 hours between shifts but more than 1 hour.\n",
      "Employee: DeXgadiXXE REdarMe, ChrisMiaW S, Position: WFS000523 has less than 10 hours between shifts but more than 1 hour.\n",
      "Employee: HaCiXMEW, DeaWMe DevEW, Position: WFS000536 has less than 10 hours between shifts but more than 1 hour.\n",
      "Employee: MraW, WiXXiaC Ha, Position: WFS000345 has less than 10 hours between shifts but more than 1 hour.\n",
      "Employee: REdrigAez, GraWdEW AWgeX, Position: WFS000550 has less than 10 hours between shifts but more than 1 hour.\n",
      "Employee: Xee, XaCar, Position: WFS000200 has less than 10 hours between shifts but more than 1 hour.\n",
      "Employee: Xee, XaCar, Position: WFS000200 has less than 10 hours between shifts but more than 1 hour.\n",
      "Employee: Xee, XaCar, Position: WFS000200 has less than 10 hours between shifts but more than 1 hour.\n"
     ]
    }
   ],
   "source": [
    "import pandas as pd\n",
    "from datetime import datetime, timedelta\n",
    "\n",
    "# Define the input file name\n",
    "input_file = \"Assignment_Timecardc.csv\"  # Replace with your CSV file path\n",
    "\n",
    "try:\n",
    "    # Read the CSV file into a DataFrame\n",
    "    df = pd.read_csv(input_file)\n",
    "\n",
    "    # Assuming the column names in your CSV file\n",
    "    date_col = \"Pay Cycle Start Date\"\n",
    "    employee_name_col = \"Employee Name\"\n",
    "    position_id_col = \"Position ID\"\n",
    "    time_col = \"Time\"\n",
    "    time_out_col = \"Time Out\"\n",
    "\n",
    "    # Convert the date and time columns to datetime\n",
    "    df[date_col] = pd.to_datetime(df[date_col], format=\"%m-%d-%Y\")\n",
    "    df[time_col] = pd.to_datetime(df[time_col], format=\"%m-%d-%Y %I:%M %p\")\n",
    "    df[time_out_col] = pd.to_datetime(df[time_out_col], format=\"%m-%d-%Y %I:%M %p\")\n",
    "\n",
    "    # Sort the DataFrame by employee name and date\n",
    "    df.sort_values(by=[employee_name_col, date_col, time_col], inplace=True)\n",
    "\n",
    "    # Group the DataFrame by employee name\n",
    "    grouped = df.groupby(employee_name_col)\n",
    "\n",
    "    for name, group in grouped:\n",
    "        prev_time_out = None\n",
    "\n",
    "        for index, row in group.iterrows():\n",
    "            if prev_time_out is not None:\n",
    "                time_between_shifts = row[time_col] - prev_time_out\n",
    "\n",
    "                # Check if time between shifts is less than 10 hours but greater than 1 hour\n",
    "                if timedelta(hours=1) < time_between_shifts < timedelta(hours=10):\n",
    "                    position = row[position_id_col]\n",
    "                    print(f\"Employee: {name}, Position: {position} has less than 10 hours between shifts but more than 1 hour.\")\n",
    "\n",
    "            prev_time_out = row[time_out_col]\n",
    "\n",
    "except FileNotFoundError:\n",
    "    print(f\"File '{input_file}' not found.\")\n",
    "except Exception as e:\n",
    "    print(f\"An error occurred: {str(e)}\")\n"
   ]
  },
  {
   "cell_type": "code",
   "execution_count": 24,
   "id": "787068f5",
   "metadata": {},
   "outputs": [
    {
     "name": "stdout",
     "output_type": "stream",
     "text": [
      "Employee: DeXgadiXXE REdarMe, ChrisMiaW S, Position: WFS000523 has worked for more than 14 hours in a single shift.\n"
     ]
    }
   ],
   "source": [
    "import pandas as pd\n",
    "from datetime import datetime, timedelta\n",
    "\n",
    "# Define the input file name\n",
    "input_file = \"Assignment_Timecardc.csv\"  # Replace with your CSV file path\n",
    "\n",
    "try:\n",
    "    # Read the CSV file into a DataFrame\n",
    "    df = pd.read_csv(input_file)\n",
    "\n",
    "    # Assuming the column names in your CSV file\n",
    "    date_col = \"Pay Cycle Start Date\"\n",
    "    employee_name_col = \"Employee Name\"\n",
    "    position_id_col = \"Position ID\"\n",
    "    time_col = \"Time\"\n",
    "    time_out_col = \"Time Out\"\n",
    "\n",
    "    # Convert the date and time columns to datetime\n",
    "    df[date_col] = pd.to_datetime(df[date_col], format=\"%m-%d-%Y\")\n",
    "    df[time_col] = pd.to_datetime(df[time_col], format=\"%m-%d-%Y %I:%M %p\")\n",
    "    df[time_out_col] = pd.to_datetime(df[time_out_col], format=\"%m-%d-%Y %I:%M %p\")\n",
    "\n",
    "    # Sort the DataFrame by employee name and date\n",
    "    df.sort_values(by=[employee_name_col, date_col, time_col], inplace=True)\n",
    "\n",
    "    # Group the DataFrame by employee name\n",
    "    grouped = df.groupby(employee_name_col)\n",
    "\n",
    "    for name, group in grouped:\n",
    "        for index, row in group.iterrows():\n",
    "            hours_worked = (row[time_out_col] - row[time_col]).total_seconds() / 3600\n",
    "\n",
    "            if hours_worked > 14:\n",
    "                position = row[position_id_col]\n",
    "                print(f\"Employee: {name}, Position: {position} has worked for more than 14 hours in a single shift.\")\n",
    "\n",
    "except FileNotFoundError:\n",
    "    print(f\"File '{input_file}' not found.\")\n",
    "except Exception as e:\n",
    "    print(f\"An error occurred: {str(e)}\")\n"
   ]
  },
  {
   "cell_type": "code",
   "execution_count": null,
   "id": "8e831002",
   "metadata": {},
   "outputs": [],
   "source": []
  },
  {
   "cell_type": "code",
   "execution_count": null,
   "id": "515949f2",
   "metadata": {},
   "outputs": [],
   "source": []
  },
  {
   "cell_type": "code",
   "execution_count": null,
   "id": "40e8a071",
   "metadata": {},
   "outputs": [],
   "source": []
  }
 ],
 "metadata": {
  "kernelspec": {
   "display_name": "Python 3",
   "language": "python",
   "name": "python3"
  },
  "language_info": {
   "codemirror_mode": {
    "name": "ipython",
    "version": 3
   },
   "file_extension": ".py",
   "mimetype": "text/x-python",
   "name": "python",
   "nbconvert_exporter": "python",
   "pygments_lexer": "ipython3",
   "version": "3.6.8"
  }
 },
 "nbformat": 4,
 "nbformat_minor": 5
}
